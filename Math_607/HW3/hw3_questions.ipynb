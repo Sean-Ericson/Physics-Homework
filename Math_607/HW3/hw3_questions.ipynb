{
 "cells": [
  {
   "cell_type": "markdown",
   "metadata": {},
   "source": [
    "# Graph Transformations\n",
    "\n",
    "Suppose that $G$ is a planar, bipartite graph with a weight function $w:G \\rightarrow \\mathbb{R}_{>0}$ and corresponding dimer model partition function \n",
    "$$Z = \\sum_{m} w(m),$$\n",
    "where the sum is over all perfect matchings on $G$.  Here are several graph transformations, producing a new graph $\\tilde{G}$ and a new weight function $\\tilde{w}$ on $\\tilde{G}$, yielding a new partition function $\\tilde{Z}$:\n",
    "\n",
    "(a) *delete a pendant edge*: If $v$ is a vertex of degree $1$ in $G$, and $v$ is adjacent to $w$: delete $v$, $w$ from $G's$ vertex set, and delete all edges incident to these vertices from the edge set.\n",
    "\n",
    "(b) *collapse a double edge*: If $v$ is a vertex of degree $2$ in $G$, adjacent to $w_1, w_2$ in $G$, then: delete $v$ and the edges incident to $v$, and then identify $w_1$ with $w_2$ (\"collapse a double edge\").\n",
    "\n",
    "(c) *gauge transformation*: If $v$ is in $G$, multiply the weights of all edges incident to $v$ by some constant. $c$.\n",
    "\n",
    "(d) *spider move*: as described in class - I'll get a picture of this move up shortly.  \n",
    "\n",
    "\n",
    "For each of the above four, describe how $Z$ relates to $\\tilde{Z}$.\n",
    "\n",
    "\n"
   ]
  },
  {
   "cell_type": "markdown",
   "metadata": {},
   "source": [
    "# Domino shuffling - theory\n",
    "\n",
    "The following is an argument in Jim Propp's paper \"Generalized Domino shuffling\".  Consider the Aztec Diamond graph of order $n$, with constant weight function $w(e) = 1$ for all edges $e$.  Describe how to apply $n^2$ instances of the spider move, followed by other graph transformations as described above, to obtain an Aztec diamond graph of order $n-1$ with constant weight function $w(e)=1$. \n",
    "\n",
    "Conclude that there are $2^{\\binom{n+1}{2}}$ perfect matchings on the Aztec Diamond graph of order $n$, and that the domino shuffling algorithm as described in class is well defined.\n",
    "\n",
    "\n",
    "\n"
   ]
  },
  {
   "cell_type": "markdown",
   "metadata": {},
   "source": [
    "# Domino shuffling - practice\n",
    "\n",
    "Implement the domino shuffling algorithm, so as to generate a uniformly randomly chosen perfect matching on an aztec diamond of order 100."
   ]
  },
  {
   "cell_type": "markdown",
   "metadata": {},
   "source": [
    "# Coupling from the past\n",
    "\n",
    "Use monotone coupling from the past to sample a uniformly random $20 \\times 20 \\times 20$ boxed plane partition (i.e. a square array of numbers between 0 and 20, weakly decreasing along rows and columns).  \n",
    "\n",
    "I talked through how to do this in class using the dimer model description of these objects, but it's arguably more trouble than it's worth to write code for the dimer model on the honeycomb."
   ]
  }
 ],
 "metadata": {
  "kernelspec": {
   "display_name": "Python 3",
   "language": "python",
   "name": "python3"
  },
  "language_info": {
   "codemirror_mode": {
    "name": "ipython",
    "version": 3
   },
   "file_extension": ".py",
   "mimetype": "text/x-python",
   "name": "python",
   "nbconvert_exporter": "python",
   "pygments_lexer": "ipython3",
   "version": "3.7.1"
  }
 },
 "nbformat": 4,
 "nbformat_minor": 2
}
