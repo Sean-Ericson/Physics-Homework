{
 "cells": [
  {
   "cell_type": "markdown",
   "metadata": {},
   "source": [
    "A couple comments on these assignments:\n",
    "\n",
    "## use whatever resources you want\n",
    "\n",
    "All assignments in this class are intended to be open-book, open internet, and done collaboratively with your peers - however, please do cite the sources you use.  Perhaps it goes without saying, but make sure that the work you submit is actually your own.\n",
    "\n",
    "## The grader should be *able* to run your code, but shouldn't *need* to\n",
    "Despite the fact that you're providing code, I don't want the grader to be either *running* or *debugging* your code - and, indeed, shouldn't spent an inordinate amount of time *reading* it.  So:\n",
    "\n",
    "- at minimum, *say what your code is doing* in markdown blocks, not just in comments in the code;\n",
    "- submit a version of the worksheet which has results of one good run of the code (together with further pictures, data, explanations, ... as appropriate).\n",
    "- That said, the grader should be *able* to run your code!  make sure it runs in a reasonable amount of time on a normal computer, and don't use any weird libraries that we have to go searching for.\n",
    "- Write clear code, test it, and *include results of the tests*.  I'll say that again:\n",
    "\n",
    "## Unit-test your  code and show us the tests\n",
    "- So, for instance: if you need to write a routine which factors integers, also write a test to see that it factors the integer 102 correctly.  Don't make the grader read your code and verify that you've actually implemented trial division.  And if the grader *does* need to do this: please use reasonable variable names, etc.\n",
    "- Consider doing *test-driven* development.  For instance:  Let's imagine you need to write an integer factorization routine for your assignment.  First, write the test that you've done it correctly:\n",
    "\n",
    "        def factor(n):\n",
    "            raise Exception(\"Not implemented yet\")\n",
    "    \n",
    "        def factor_test():\n",
    "            assert factor(102) == [2, 3, 17]\n",
    "            \n",
    "        factor_test()\n",
    "            \n",
    "- and THEN start doing the assignment, running the cell frequently as you work. \n",
    "- If this isn't your first rodeo, go ahead and use a unit test framework that you like, as long as it's something standard and we don't have to be installing things on our computers.\n",
    "\n",
    "## Leave time to refactor your code\n",
    "- If you tend to write unclear code, then go ahead and do that, get your simulations running, etc, but then tidy it up before you hand it in! i.e. *refactor* your code so that it is as above.\n",
    "- While refactoring, run your code frequently as you write; you know you're done when your tests are passing.  Also: if you wrote terrible code and you need to clean it up,  keep running the tests as you do that, so as to verify that everything is still working as intended.\n",
    "\n",
    "## I'm pretty sure I can do all these problems...\n",
    "\n",
    "...I thought it wouldn't be sporting to post the assignment otherwise!  However, I haven't actually written all the code and written out all the proofs yet.  \n",
    "\n",
    "Remember: if you're unsure about your theoretical answer, check it with simulation! Probability is subtle and counterintuitive, whereas hacking away with python is not.  Partial credit will be given for empirical answers to theoretical questions (i.e. it is ok to try science in applied math class)  \n",
    "\n",
    "Also, let me give you a hint right a the start: if you're stuck, try to use linearity of expectation.  You're welcome. "
   ]
  },
  {
   "cell_type": "markdown",
   "metadata": {},
   "source": [
    "# The Problems:"
   ]
  },
  {
   "cell_type": "markdown",
   "metadata": {},
   "source": [
    "# Stein's lemma\n",
    "\n",
    "Show that if $W$ is a nonnegative integer-valued random variable,\n",
    "then\n",
    "$$  \\lambda \\mathbb{E}[f(W + 1)] = \\mathbb{E}[W f(W)] $$\n",
    "for all bounded $f$\n",
    "if and only if\n",
    "$W$ has a Poisson distribution with mean $\\lambda$.\n",
    "\n",
    "Note: I see how to do this problem; I don't see why it's called Stein's Lemma."
   ]
  },
  {
   "cell_type": "markdown",
   "metadata": {},
   "source": [
    "# Deposits\n",
    "\n",
    "Customers arrive at a bank throughout the work day (nine to five) at the times of a homogeneous Poisson process,\n",
    "with an average arrival rate of one every 5 minutes.\n",
    "Each customer, independently, either deposits one dollar or deposits ten dollars, with probability 1/2 each.\n",
    "Let $C$ be the number of customers and $T$ be the total amount deposited.\n",
    "What is the covariance of $C$ and $T$?"
   ]
  },
  {
   "cell_type": "markdown",
   "metadata": {},
   "source": [
    "# Birds on a wire\n",
    "\n",
    "An infinitely long telephone wire has birds (specifically, European Starlings, *Sturnus vulgaris*)\n",
    "sitting on it, with a mean density of one starling per meter.\n",
    "Suppose that (a) no two birds are sitting at the same place, and\n",
    "(b) the numbers of birds sitting on any two disjoint segments of wire are independent of each other.\n",
    "\n",
    "1. We survey 100km of wire. How many pairs of birds do we expect to see sitting within 5cm of each other?\n",
    "   (All pairs count - if $k$ birds are sitting on a given 5cm, there are $\\binom{k}{2}$ pairs.)  \n",
    "\n",
    "2. All the birds fly up and land again at a random location further down the wire:\n",
    "    every bird independently flies a random, Exponentially distributed distance with mean 20m.\n",
    "    Show that the resulting bird locations has the same distribution as before.\n",
    "    \n"
   ]
  },
  {
   "cell_type": "markdown",
   "metadata": {},
   "source": [
    "# Number of pairs?\n",
    "\n",
    "Let $X$ denote the number of *adjacent pairs* in a well-shuffled deck of cards,\n",
    "i.e., the number of $1 \\le i \\le 51$ such that the $i$th and $(i+1)$ st cards have the same value\n",
    "(although perhaps different suits).\n",
    "\n",
    "1. Find $\\mathbb{E}[X]$. \n",
    "2. Someone argues that since the chance of there being a pair at position $i$ is small,\n",
    "    and so $X$ is the total number of a bunch of unlikely things, that $X$ is close to Poisson.\n",
    "    Give at least two distinct reasons that $X$ does *not* actually have the Poisson distribution.\n",
    "3. However, it's not far off:\n",
    "    Use at least 10,000 simulations of process to assess empirically how close the distribution of $X$\n",
    "    is to the Poisson distribution with the same mean."
   ]
  },
  {
   "cell_type": "markdown",
   "metadata": {},
   "source": [
    "# Uniform?\n",
    "\n",
    "For a collection of points $\\{(x_i, y_i)\\}_{i=1}^N \\subset \\mathbb{R}^2$, define\n",
    "$$\\begin{aligned}\n",
    "    P(\\sigma)\n",
    "    &= \\sum_{i \\neq j} \\frac{1}{2 \\pi \\sigma^2} \\exp\\left(- \\frac{(x_i - x_j)^2 + (y_i - y_j)^2}{2 \\sigma^2} \\right) .\n",
    "\\end{aligned}$$\n",
    "\n",
    "1. Draw $N=150$ points uniformly and independently on the unit square and produce a plot of the function $P$ for this point set.\n",
    "\n",
    "2. Simulate an *overdispersed* point process on the unit square - i.e., one in which the points are *more* regularly spaced than at \"random\" - and do the same.\n",
    "\n",
    "3. Do the same for an underdispersed one - i.e., one in which they tend to clump together.\n",
    "\n",
    "4. Interpret the differences between the three curves (note: you should simulate from each one a bunch of times,\n",
    "    so you can differentiate trend from noise)."
   ]
  }
 ],
 "metadata": {
  "kernelspec": {
   "display_name": "Python 3",
   "language": "python",
   "name": "python3"
  },
  "language_info": {
   "codemirror_mode": {
    "name": "ipython",
    "version": 3
   },
   "file_extension": ".py",
   "mimetype": "text/x-python",
   "name": "python",
   "nbconvert_exporter": "python",
   "pygments_lexer": "ipython3",
   "version": "3.11.5"
  }
 },
 "nbformat": 4,
 "nbformat_minor": 2
}
