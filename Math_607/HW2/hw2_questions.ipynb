{
 "cells": [
  {
   "cell_type": "markdown",
   "metadata": {},
   "source": [
    "# Shot noise\n",
    "\n",
    "We are measuring $Y(t)$, the activity level of a neuron,\n",
    "that is recieving inputs at random times.\n",
    "Each input increases activity by one unit immediately, and the effect of this decays exponentially with time,\n",
    "so if inputs occurred at times $s_1 < s_2 < \\cdots < s_n \\le t$ so far, then the activity at time $t$ is\n",
    "$$ Y(t) = \\sum_k exp(-(t-s_k)) , $$\n",
    "where times are measured in seconds.\n",
    "Suppose the arrival times of the inputs are a Poisson process with a mean of 100 arrivals per minute.\n",
    "\n",
    "1. Simulate this process, and plot measurements $Y(t)$ taken 10 times each second for at least one minute.\n",
    "\n",
    "2. Find $\\mathbb{E}[Y(t)]$ and $\\text{var}[Y(t)]$."
   ]
  },
  {
   "cell_type": "markdown",
   "metadata": {},
   "source": [
    "## Brownian motion\n",
    "\n",
    "\n",
    "1. Simulate and plot at least 1000 paths of standard Brownian motion over the time interval $[0, 8]$,\n",
    "with a time resolution of at least 1000 time points.\n",
    "\n",
    "2. Compare the distribution of the values at time $t$ to the theoretical distribution for $B(t)$\n",
    "at $t \\in \\{0.5, 1, 2, 4, 8\\}$.\n",
    "\n",
    "3. Compute the proportion of your simulations that hit $x$ before -1,\n",
    "    for $0 \\le x \\le 1$, and compare to the theoretical value.\n",
    "    \n",
    "  "
   ]
  },
  {
   "cell_type": "markdown",
   "metadata": {},
   "source": [
    "# Gaussian horizons\n",
    "\n",
    "Here is a proposal for a model of a random, mountainous, skyline:\n",
    "let $Z = (Z_1, \\ldots, Z_n)$ be multivariate Gaussian \n",
    "with mean zero and covariance matrix as follows.\n",
    "We imagine these as arranged around a circle,\n",
    "and let $d(i,j) = \\min(|i-j|, n-|i-j|)$ be the circular distance between $i$ and $j$.\n",
    "Then for each $1 \\le i \\le n$ let $\\text{var}[Z_i] = 1.01$ and for $i \\neq j$ let\n",
    "$$ \\text{cov}[Z_i, Z_j] = \\frac{1}{1 + \\left(\\frac{10 \\, d(i,j)}{n}\\right)^2} . $$\n",
    "We interpret these $Z_i$ as the height of the skyline at $n$ regularly spaced points around the horizon.\n",
    "\n",
    "1. Simulate a few random landscapes from this process with different values of $n$ between\n",
    "    50 and 500.\n",
    "\n",
    "2. For $0 \\le s < t \\le 1$ let $U(s, t) = \\frac{1}{n(t-s)} \\sum_{i=ns}^{nt} Z_i$:\n",
    "    in other words, $U(s,t)$ is the average of the values between positions $s$ and $t$ around the circle,\n",
    "    if the circle has diameter 1. Find an approximation for large $n$ for $\\text{cov}[U(0, s), U(0, t)]$\n",
    "    and check your answer using simulation with a few values of $s$ and $t$."
   ]
  }
 ],
 "metadata": {
  "kernelspec": {
   "display_name": "Python 3",
   "language": "python",
   "name": "python3"
  },
  "language_info": {
   "codemirror_mode": {
    "name": "ipython",
    "version": 3
   },
   "file_extension": ".py",
   "mimetype": "text/x-python",
   "name": "python",
   "nbconvert_exporter": "python",
   "pygments_lexer": "ipython3",
   "version": "3.7.1"
  }
 },
 "nbformat": 4,
 "nbformat_minor": 2
}
